{
  "metadata": {
    "language_info": {
      "codemirror_mode": {
        "name": "python",
        "version": 3
      },
      "file_extension": ".py",
      "mimetype": "text/x-python",
      "name": "python",
      "nbconvert_exporter": "python",
      "pygments_lexer": "ipython3",
      "version": "3.8"
    },
    "kernelspec": {
      "name": "python",
      "display_name": "Python (Pyodide)",
      "language": "python"
    }
  },
  "nbformat_minor": 4,
  "nbformat": 4,
  "cells": [
    {
      "cell_type": "markdown",
      "source": "# Topic 6 - Programming\nIn this notebook you will be learning the basics of programming with Python using multiple activities.\n\n> Please be aware of the fact that the programming part is not everything about this topic, you also need to be aware of the terminologies and the theories behind the code in order to answer questions. Creating your own glossaries is hugely encouraged.\n\n## Variables and Constants\nA **variable** is a named location in a computer program that:\n- stores a value\n- the named location stays the same while the value can be changed\n\nA **constant** is a named location in a computer program that:\n- stores a value that does NOT change\n\n> Python does not have constants, use ALL_CAPS to represent constants by convention\n\nUnlike most programming languages, Python ",
      "metadata": {}
    },
    {
      "cell_type": "code",
      "source": "",
      "metadata": {},
      "execution_count": null,
      "outputs": []
    },
    {
      "cell_type": "code",
      "source": "",
      "metadata": {},
      "execution_count": null,
      "outputs": []
    }
  ]
}